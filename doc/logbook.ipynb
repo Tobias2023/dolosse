{
 "cells": [
  {
   "cell_type": "markdown",
   "metadata": {},
   "source": [
    "# December 29, 2018\n",
    "## Test tables\n",
    "Our test trigger time will be 19623818309088. We can find the gated gammas with"
   ]
  },
  {
   "cell_type": "code",
   "execution_count": 2,
   "metadata": {},
   "outputs": [
    {
     "name": "stdout",
     "output_type": "stream",
     "text": [
      "[(10, 3401.897553, 19623818308976, 39247636617952.7), (9, 1284.855562, 19623818308966, 39247636617932.0)]\n"
     ]
    }
   ],
   "source": [
    "import psycopg2\n",
    "import yaml\n",
    "\n",
    "with open('cfg.yaml') as f:\n",
    "    cfg = yaml.safe_load(f)\n",
    "    \n",
    "connection = psycopg2.connect(user=cfg['username'], password=cfg['password'],\n",
    "                              host=cfg['host'], port=cfg['port'], database=cfg['db'])\n",
    "cursor = connection.cursor()\n",
    "cursor.execute('select * from data where time between 19623818309088-126 and 19623818309088-63;')\n",
    "print(cursor.fetchall())"
   ]
  },
  {
   "cell_type": "markdown",
   "metadata": {},
   "source": [
    "We'll create a table to hold results:\n",
    "```sql\n",
    "create table gated (id int, ge_energy double precision, ge_time bigint);\n",
    "```"
   ]
  },
  {
   "cell_type": "markdown",
   "metadata": {
    "collapsed": true
   },
   "source": [
    "# December 30, 2018\n",
    "## Slow as dirt\n",
    "Things still are not too performant. I’m looking at 1000 trigger times and it takes about 5 min to generate our list. According to [this](https://stackoverflow.com/questions/8134602/psycopg2-insert-multiple-rows-with-one-query) forum we could see an improvement by generating the query ourself and executing it.\n",
    "## Generating our own query\n",
    "That does seem to have speeded things up a little bit. Let's try giving it the whole dataset. Generating the full statement list for 10 threads takes about 20 seconds each. Executing the queries ended in failure. I will need to determine a different way to execute this query. Error message says: \n",
    "> psycopg2.OperationalError: no connection to the server\n",
    "\n"
   ]
  },
  {
   "cell_type": "code",
   "execution_count": null,
   "metadata": {},
   "outputs": [],
   "source": []
  }
 ],
 "metadata": {
  "kernelspec": {
   "display_name": "Python 2",
   "language": "python",
   "name": "python2"
  },
  "language_info": {
   "codemirror_mode": {
    "name": "ipython",
    "version": 2
   },
   "file_extension": ".py",
   "mimetype": "text/x-python",
   "name": "python",
   "nbconvert_exporter": "python",
   "pygments_lexer": "ipython2",
   "version": "2.7.6"
  }
 },
 "nbformat": 4,
 "nbformat_minor": 0
}
